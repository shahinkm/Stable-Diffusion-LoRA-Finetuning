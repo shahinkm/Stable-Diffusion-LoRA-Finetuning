{
 "cells": [
  {
   "cell_type": "code",
   "execution_count": 1,
   "metadata": {},
   "outputs": [
    {
     "name": "stderr",
     "output_type": "stream",
     "text": [
      "/home/shahinshah/miniconda3/lib/python3.11/site-packages/torchvision/io/image.py:13: UserWarning: Failed to load image Python extension: '/home/shahinshah/miniconda3/lib/python3.11/site-packages/torchvision/image.so: undefined symbol: _ZN3c1017RegisterOperatorsD1Ev'If you don't plan on using image functionality from `torchvision.io`, you can ignore this warning. Otherwise, there might be something wrong with your environment. Did you have `libjpeg` or `libpng` installed before building `torchvision` from source?\n",
      "  warn(\n",
      "/home/shahinshah/miniconda3/lib/python3.11/site-packages/tqdm/auto.py:21: TqdmWarning: IProgress not found. Please update jupyter and ipywidgets. See https://ipywidgets.readthedocs.io/en/stable/user_install.html\n",
      "  from .autonotebook import tqdm as notebook_tqdm\n",
      "/home/shahinshah/miniconda3/lib/python3.11/site-packages/diffusers/utils/outputs.py:63: UserWarning: torch.utils._pytree._register_pytree_node is deprecated. Please use torch.utils._pytree.register_pytree_node instead.\n",
      "  torch.utils._pytree._register_pytree_node(\n"
     ]
    }
   ],
   "source": [
    "import sys\n",
    "\n",
    "import torch\n",
    "from torchvision import transforms\n",
    "from transformers import AutoTokenizer\n",
    "from torch.utils.data import DataLoader\n",
    "from peft import LoraConfig\n",
    "\n",
    "sys.path.append(\"../\")\n",
    "from src import create_hf_dataset, ImageTextSDTensorDataset, ImageTextSDXLTensorDataset, RandomCropWithCoords, ComposeWithCropCoords, AutoStableDiffusionModel, LoraWrapper, Params, convert_to_lora_target_names"
   ]
  },
  {
   "cell_type": "code",
   "execution_count": 2,
   "metadata": {},
   "outputs": [],
   "source": [
    "data_dir = \"../data/deep_fashion\""
   ]
  },
  {
   "cell_type": "code",
   "execution_count": 3,
   "metadata": {},
   "outputs": [],
   "source": [
    "config_path = \"../configs/train_config_sdxl.json\"\n",
    "config = Params(config_path)"
   ]
  },
  {
   "cell_type": "code",
   "execution_count": 4,
   "metadata": {},
   "outputs": [],
   "source": [
    "hf_dataset = create_hf_dataset(data_dir, config.TRAINING.TEST_SIZE)"
   ]
  },
  {
   "cell_type": "markdown",
   "metadata": {},
   "source": [
    "# Look at Model Outputs for Stable Diffusion"
   ]
  },
  {
   "cell_type": "code",
   "execution_count": 5,
   "metadata": {},
   "outputs": [],
   "source": [
    "device = \"cuda:0\" if torch.cuda.is_available() else \"cpu\""
   ]
  },
  {
   "cell_type": "code",
   "execution_count": 6,
   "metadata": {},
   "outputs": [],
   "source": [
    "sd_train_config_path = \"./configs_for_exploration/train_config_sd.json\"\n",
    "sd_train_config = Params(sd_train_config_path)"
   ]
  },
  {
   "cell_type": "code",
   "execution_count": 7,
   "metadata": {},
   "outputs": [],
   "source": [
    "sd_tokenizer = AutoTokenizer.from_pretrained(config.MODEL.BASE_MODEL_NAME, subfolder=\"tokenizer\")"
   ]
  },
  {
   "cell_type": "code",
   "execution_count": 8,
   "metadata": {},
   "outputs": [
    {
     "name": "stderr",
     "output_type": "stream",
     "text": [
      "Map: 100%|██████████| 40416/40416 [00:02<00:00, 19161.33 examples/s]\n"
     ]
    }
   ],
   "source": [
    "sd_train_transforms = transforms.Compose(\n",
    "    [\n",
    "        transforms.Resize(sd_train_config.DATA_AUGMENTATION.RESIZE_RESOLUTION),\n",
    "        transforms.RandomCrop(sd_train_config.DATA_AUGMENTATION.TARGET_RESOLUTION),\n",
    "        transforms.RandomHorizontalFlip() if sd_train_config.DATA_AUGMENTATION.RANDOM_HORIZONTAL_FLIP else transforms.Lambda(lambda x: x),\n",
    "        transforms.ToTensor(),\n",
    "        transforms.Normalize([0.5], [0.5]),\n",
    "    ]\n",
    ")\n",
    "sd_train_dataset = ImageTextSDTensorDataset(hf_dataset[\"train\"], sd_tokenizer, sd_train_transforms)\n",
    "sd_train_dataloader = DataLoader(sd_train_dataset, batch_size=sd_train_config.TRAINING.BATCH_SIZE.TRAIN, shuffle=True)"
   ]
  },
  {
   "cell_type": "code",
   "execution_count": 9,
   "metadata": {},
   "outputs": [],
   "source": [
    "sd_train_batch = next(iter(sd_train_dataloader))"
   ]
  },
  {
   "cell_type": "code",
   "execution_count": 10,
   "metadata": {},
   "outputs": [],
   "source": [
    "sd_train_batch = [item.to(device) for item in sd_train_batch]"
   ]
  },
  {
   "cell_type": "markdown",
   "metadata": {},
   "source": [
    "**Base Model Output**"
   ]
  },
  {
   "cell_type": "code",
   "execution_count": 11,
   "metadata": {},
   "outputs": [],
   "source": [
    "sd_base_model = AutoStableDiffusionModel.from_pretrained(sd_train_config.MODEL.BASE_MODEL_NAME)\n",
    "sd_base_model = sd_base_model.to(device)"
   ]
  },
  {
   "cell_type": "code",
   "execution_count": 12,
   "metadata": {},
   "outputs": [],
   "source": [
    "sd_base_loss = sd_base_model(*sd_train_batch)"
   ]
  },
  {
   "cell_type": "code",
   "execution_count": 13,
   "metadata": {},
   "outputs": [
    {
     "data": {
      "text/plain": [
       "tensor(0.0998, device='cuda:0', grad_fn=<MseLossBackward0>)"
      ]
     },
     "execution_count": 13,
     "metadata": {},
     "output_type": "execute_result"
    }
   ],
   "source": [
    "sd_base_loss"
   ]
  },
  {
   "cell_type": "code",
   "execution_count": 14,
   "metadata": {},
   "outputs": [],
   "source": [
    "sd_base_loss.backward()"
   ]
  },
  {
   "cell_type": "code",
   "execution_count": 15,
   "metadata": {},
   "outputs": [],
   "source": [
    "sd_base_model.to(\"cpu\")\n",
    "del sd_base_model\n",
    "torch.cuda.empty_cache()"
   ]
  },
  {
   "cell_type": "markdown",
   "metadata": {},
   "source": [
    "**Lora Model with Trainable Text Encoder Output**"
   ]
  },
  {
   "cell_type": "code",
   "execution_count": 16,
   "metadata": {},
   "outputs": [],
   "source": [
    "sd_base_model = AutoStableDiffusionModel.from_pretrained(sd_train_config.MODEL.BASE_MODEL_NAME)\n",
    "sd_base_model = sd_base_model.to(device)"
   ]
  },
  {
   "cell_type": "code",
   "execution_count": 17,
   "metadata": {},
   "outputs": [],
   "source": [
    "sd_unet_lora_config = LoraConfig(\n",
    "    r=sd_train_config.LORA.RANK,\n",
    "    lora_alpha=sd_train_config.LORA.ALPHA,\n",
    "    target_modules=convert_to_lora_target_names(sd_train_config.LORA.TARGET, \"unet\"),\n",
    "    init_lora_weights=\"gaussian\",\n",
    ")"
   ]
  },
  {
   "cell_type": "code",
   "execution_count": 18,
   "metadata": {},
   "outputs": [],
   "source": [
    "text_encoder_lora_config = (\n",
    "    LoraConfig(\n",
    "        r=sd_train_config.LORA.RANK,\n",
    "        lora_alpha=sd_train_config.LORA.ALPHA,\n",
    "        target_modules=convert_to_lora_target_names(\n",
    "            sd_train_config.LORA.TARGET, \"text_encoder\"\n",
    "        ),\n",
    "        init_lora_weights=\"gaussian\",\n",
    "    )\n",
    ")"
   ]
  },
  {
   "cell_type": "code",
   "execution_count": 19,
   "metadata": {},
   "outputs": [],
   "source": [
    "sd_lora_model = LoraWrapper.from_config(sd_base_model, sd_unet_lora_config, text_encoder_lora_config)\n",
    "sd_lora_model = sd_lora_model.to(device)"
   ]
  },
  {
   "cell_type": "code",
   "execution_count": 20,
   "metadata": {},
   "outputs": [],
   "source": [
    "sd_lora_loss = sd_lora_model(*sd_train_batch)"
   ]
  },
  {
   "cell_type": "code",
   "execution_count": 21,
   "metadata": {},
   "outputs": [
    {
     "data": {
      "text/plain": [
       "tensor(0.1961, device='cuda:0', grad_fn=<MseLossBackward0>)"
      ]
     },
     "execution_count": 21,
     "metadata": {},
     "output_type": "execute_result"
    }
   ],
   "source": [
    "sd_lora_loss"
   ]
  },
  {
   "cell_type": "code",
   "execution_count": 22,
   "metadata": {},
   "outputs": [],
   "source": [
    "sd_lora_loss.backward()"
   ]
  },
  {
   "cell_type": "code",
   "execution_count": 23,
   "metadata": {},
   "outputs": [],
   "source": [
    "sd_base_model.to(\"cpu\")\n",
    "sd_lora_model.to(\"cpu\")\n",
    "del sd_base_model\n",
    "del sd_lora_model\n",
    "torch.cuda.empty_cache()"
   ]
  },
  {
   "cell_type": "markdown",
   "metadata": {},
   "source": [
    "**Lora Model without Trainable Text Encoder Output**"
   ]
  },
  {
   "cell_type": "code",
   "execution_count": 24,
   "metadata": {},
   "outputs": [],
   "source": [
    "sd_base_model = AutoStableDiffusionModel.from_pretrained(sd_train_config.MODEL.BASE_MODEL_NAME)\n",
    "sd_base_model = sd_base_model.to(device)"
   ]
  },
  {
   "cell_type": "code",
   "execution_count": 25,
   "metadata": {},
   "outputs": [],
   "source": [
    "sd_unet_lora_config = LoraConfig(\n",
    "    r=sd_train_config.LORA.RANK,\n",
    "    lora_alpha=sd_train_config.LORA.ALPHA,\n",
    "    target_modules=convert_to_lora_target_names(sd_train_config.LORA.TARGET, \"unet\"),\n",
    "    init_lora_weights=\"gaussian\",\n",
    ")"
   ]
  },
  {
   "cell_type": "code",
   "execution_count": 26,
   "metadata": {},
   "outputs": [],
   "source": [
    "sd_lora_model = LoraWrapper.from_config(sd_base_model, sd_unet_lora_config)\n",
    "sd_lora_model = sd_lora_model.to(device)"
   ]
  },
  {
   "cell_type": "code",
   "execution_count": 27,
   "metadata": {},
   "outputs": [],
   "source": [
    "sd_lora_loss = sd_lora_model(*sd_train_batch)"
   ]
  },
  {
   "cell_type": "code",
   "execution_count": 28,
   "metadata": {},
   "outputs": [
    {
     "data": {
      "text/plain": [
       "tensor(0.0473, device='cuda:0', grad_fn=<MseLossBackward0>)"
      ]
     },
     "execution_count": 28,
     "metadata": {},
     "output_type": "execute_result"
    }
   ],
   "source": [
    "sd_lora_loss"
   ]
  },
  {
   "cell_type": "code",
   "execution_count": 29,
   "metadata": {},
   "outputs": [],
   "source": [
    "sd_lora_loss.backward()"
   ]
  },
  {
   "cell_type": "code",
   "execution_count": 30,
   "metadata": {},
   "outputs": [],
   "source": [
    "sd_base_model.to(\"cpu\")\n",
    "sd_lora_model.to(\"cpu\")\n",
    "del sd_base_model\n",
    "del sd_lora_model\n",
    "torch.cuda.empty_cache()"
   ]
  },
  {
   "cell_type": "markdown",
   "metadata": {},
   "source": [
    "# Look at Model Outputs for Stable Diffusion XL"
   ]
  },
  {
   "cell_type": "code",
   "execution_count": 31,
   "metadata": {},
   "outputs": [],
   "source": [
    "device = \"cuda:1\" if torch.cuda.is_available() else \"cpu\""
   ]
  },
  {
   "cell_type": "code",
   "execution_count": 32,
   "metadata": {},
   "outputs": [],
   "source": [
    "sdxl_train_config_path = \"./configs_for_exploration/train_config_sdxl.json\"\n",
    "sdxl_train_config = Params(sdxl_train_config_path)"
   ]
  },
  {
   "cell_type": "code",
   "execution_count": 33,
   "metadata": {},
   "outputs": [],
   "source": [
    "sdxl_tokenizer1 = AutoTokenizer.from_pretrained(sdxl_train_config.MODEL.BASE_MODEL_NAME, subfolder=\"tokenizer\")\n",
    "sdxl_tokenizer2 = AutoTokenizer.from_pretrained(sdxl_train_config.MODEL.BASE_MODEL_NAME, subfolder=\"tokenizer_2\")"
   ]
  },
  {
   "cell_type": "code",
   "execution_count": 34,
   "metadata": {},
   "outputs": [
    {
     "name": "stderr",
     "output_type": "stream",
     "text": [
      "Map: 100%|██████████| 40416/40416 [00:03<00:00, 10224.53 examples/s]\n"
     ]
    }
   ],
   "source": [
    "sdxl_train_transforms = ComposeWithCropCoords(\n",
    "    [\n",
    "        transforms.Resize(sdxl_train_config.DATA_AUGMENTATION.RESIZE_RESOLUTION),\n",
    "        RandomCropWithCoords(sdxl_train_config.DATA_AUGMENTATION.TARGET_RESOLUTION),\n",
    "        transforms.RandomHorizontalFlip() if sdxl_train_config.DATA_AUGMENTATION.RANDOM_HORIZONTAL_FLIP else transforms.Lambda(lambda x: x),\n",
    "        transforms.ToTensor(),\n",
    "        transforms.Normalize([0.5], [0.5]),\n",
    "    ]\n",
    ")\n",
    "sdxl_train_dataset = ImageTextSDXLTensorDataset(hf_dataset[\"train\"], sdxl_tokenizer1, sdxl_tokenizer2, sdxl_train_transforms, sdxl_train_config.DATA_AUGMENTATION.TARGET_RESOLUTION)\n",
    "sdxl_train_dataloader = DataLoader(sdxl_train_dataset, batch_size=sdxl_train_config.TRAINING.BATCH_SIZE.TRAIN, shuffle=True)"
   ]
  },
  {
   "cell_type": "code",
   "execution_count": 35,
   "metadata": {},
   "outputs": [],
   "source": [
    "sdxl_train_batch = next(iter(sdxl_train_dataloader))"
   ]
  },
  {
   "cell_type": "code",
   "execution_count": 36,
   "metadata": {},
   "outputs": [],
   "source": [
    "sdxl_train_batch = [item.to(device) for item in sdxl_train_batch]"
   ]
  },
  {
   "cell_type": "markdown",
   "metadata": {},
   "source": [
    "**Base Model Output**"
   ]
  },
  {
   "cell_type": "code",
   "execution_count": 37,
   "metadata": {},
   "outputs": [],
   "source": [
    "sdxl_base_model = AutoStableDiffusionModel.from_pretrained(sdxl_train_config.MODEL.BASE_MODEL_NAME)\n",
    "sdxl_base_model = sdxl_base_model.to(device)"
   ]
  },
  {
   "cell_type": "code",
   "execution_count": 38,
   "metadata": {},
   "outputs": [],
   "source": [
    "sdxl_base_loss = sdxl_base_model(*sdxl_train_batch)"
   ]
  },
  {
   "cell_type": "code",
   "execution_count": 39,
   "metadata": {},
   "outputs": [
    {
     "data": {
      "text/plain": [
       "tensor(0.0995, device='cuda:1', grad_fn=<MseLossBackward0>)"
      ]
     },
     "execution_count": 39,
     "metadata": {},
     "output_type": "execute_result"
    }
   ],
   "source": [
    "sdxl_base_loss"
   ]
  },
  {
   "cell_type": "code",
   "execution_count": 40,
   "metadata": {},
   "outputs": [],
   "source": [
    "sdxl_base_loss.backward()"
   ]
  },
  {
   "cell_type": "code",
   "execution_count": 41,
   "metadata": {},
   "outputs": [],
   "source": [
    "sdxl_base_model.to(\"cpu\")\n",
    "del sdxl_base_model\n",
    "torch.cuda.empty_cache()"
   ]
  },
  {
   "cell_type": "markdown",
   "metadata": {},
   "source": [
    "**Lora Model with Trainable Text Encoder Output**"
   ]
  },
  {
   "cell_type": "code",
   "execution_count": 42,
   "metadata": {},
   "outputs": [],
   "source": [
    "sdxl_base_model = AutoStableDiffusionModel.from_pretrained(sdxl_train_config.MODEL.BASE_MODEL_NAME)\n",
    "sdxl_base_model = sdxl_base_model.to(device)"
   ]
  },
  {
   "cell_type": "code",
   "execution_count": 43,
   "metadata": {},
   "outputs": [],
   "source": [
    "sdxl_unet_lora_config = LoraConfig(\n",
    "    r=sdxl_train_config.LORA.RANK,\n",
    "    lora_alpha=sdxl_train_config.LORA.ALPHA,\n",
    "    target_modules=convert_to_lora_target_names(sdxl_train_config.LORA.TARGET, \"unet\"),\n",
    "    init_lora_weights=\"gaussian\",\n",
    ")"
   ]
  },
  {
   "cell_type": "code",
   "execution_count": 44,
   "metadata": {},
   "outputs": [],
   "source": [
    "sdxl_text_encoder_lora_config = LoraConfig(\n",
    "    r=sdxl_train_config.LORA.RANK,\n",
    "    lora_alpha=sdxl_train_config.LORA.ALPHA,\n",
    "    target_modules=convert_to_lora_target_names(sdxl_train_config.LORA.TARGET, \"text_encoder\"),\n",
    "    init_lora_weights=\"gaussian\",\n",
    ")"
   ]
  },
  {
   "cell_type": "code",
   "execution_count": 45,
   "metadata": {},
   "outputs": [],
   "source": [
    "sdxl_lora_model = LoraWrapper.from_config(sdxl_base_model, sdxl_unet_lora_config, sdxl_text_encoder_lora_config)\n",
    "sdxl_lora_model = sdxl_lora_model.to(device)"
   ]
  },
  {
   "cell_type": "code",
   "execution_count": 46,
   "metadata": {},
   "outputs": [],
   "source": [
    "sdxl_lora_loss = sdxl_lora_model(*sdxl_train_batch)"
   ]
  },
  {
   "cell_type": "code",
   "execution_count": 47,
   "metadata": {},
   "outputs": [
    {
     "data": {
      "text/plain": [
       "tensor(0.0698, device='cuda:1', grad_fn=<MseLossBackward0>)"
      ]
     },
     "execution_count": 47,
     "metadata": {},
     "output_type": "execute_result"
    }
   ],
   "source": [
    "sdxl_lora_loss"
   ]
  },
  {
   "cell_type": "code",
   "execution_count": 48,
   "metadata": {},
   "outputs": [],
   "source": [
    "sdxl_lora_loss.backward()"
   ]
  },
  {
   "cell_type": "code",
   "execution_count": 49,
   "metadata": {},
   "outputs": [],
   "source": [
    "sdxl_base_model.to(\"cpu\")\n",
    "sdxl_lora_model.to(\"cpu\")\n",
    "del sdxl_base_model\n",
    "del sdxl_lora_model\n",
    "torch.cuda.empty_cache()"
   ]
  },
  {
   "cell_type": "markdown",
   "metadata": {},
   "source": [
    "**Lora Model without Trainable Text Encoder Output**"
   ]
  },
  {
   "cell_type": "code",
   "execution_count": 50,
   "metadata": {},
   "outputs": [],
   "source": [
    "sdxl_base_model = AutoStableDiffusionModel.from_pretrained(sdxl_train_config.MODEL.BASE_MODEL_NAME)\n",
    "sdxl_base_model = sdxl_base_model.to(device)"
   ]
  },
  {
   "cell_type": "code",
   "execution_count": 51,
   "metadata": {},
   "outputs": [],
   "source": [
    "sdxl_unet_lora_config = LoraConfig(\n",
    "    r=sdxl_train_config.LORA.RANK,\n",
    "    lora_alpha=sdxl_train_config.LORA.ALPHA,\n",
    "    target_modules=convert_to_lora_target_names(sdxl_train_config.LORA.TARGET, \"unet\"),\n",
    "    init_lora_weights=\"gaussian\",\n",
    ")"
   ]
  },
  {
   "cell_type": "code",
   "execution_count": 52,
   "metadata": {},
   "outputs": [],
   "source": [
    "sdxl_lora_model = LoraWrapper.from_config(sdxl_base_model, sdxl_unet_lora_config)\n",
    "sdxl_lora_model = sdxl_lora_model.to(device)"
   ]
  },
  {
   "cell_type": "code",
   "execution_count": 53,
   "metadata": {},
   "outputs": [],
   "source": [
    "sdxl_lora_model.enable_gradient_checkpointing()\n",
    "sdxl_lora_model.enable_xformers()"
   ]
  },
  {
   "cell_type": "code",
   "execution_count": 54,
   "metadata": {},
   "outputs": [],
   "source": [
    "sdxl_lora_loss = sdxl_lora_model(*sdxl_train_batch)"
   ]
  },
  {
   "cell_type": "code",
   "execution_count": 55,
   "metadata": {},
   "outputs": [
    {
     "data": {
      "text/plain": [
       "tensor(0.1640, device='cuda:1', grad_fn=<MseLossBackward0>)"
      ]
     },
     "execution_count": 55,
     "metadata": {},
     "output_type": "execute_result"
    }
   ],
   "source": [
    "sdxl_lora_loss"
   ]
  },
  {
   "cell_type": "code",
   "execution_count": 56,
   "metadata": {},
   "outputs": [],
   "source": [
    "sdxl_lora_loss.backward()"
   ]
  },
  {
   "cell_type": "code",
   "execution_count": 57,
   "metadata": {},
   "outputs": [],
   "source": [
    "sdxl_base_model.to(\"cpu\")\n",
    "sdxl_lora_model.to(\"cpu\")\n",
    "del sdxl_base_model\n",
    "del sdxl_lora_model\n",
    "torch.cuda.empty_cache()"
   ]
  }
 ],
 "metadata": {
  "kernelspec": {
   "display_name": "base",
   "language": "python",
   "name": "python3"
  },
  "language_info": {
   "codemirror_mode": {
    "name": "ipython",
    "version": 3
   },
   "file_extension": ".py",
   "mimetype": "text/x-python",
   "name": "python",
   "nbconvert_exporter": "python",
   "pygments_lexer": "ipython3",
   "version": "3.11.4"
  }
 },
 "nbformat": 4,
 "nbformat_minor": 2
}
